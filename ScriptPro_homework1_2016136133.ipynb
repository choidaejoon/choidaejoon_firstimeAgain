{
 "cells": [
  {
   "cell_type": "markdown",
   "metadata": {},
   "source": [
    "#  스크립트 프로그래밍 첫번째 과제\n",
    "\n",
    "## 2016136133 최대준\n",
    "\n",
    "\n",
    "\n",
    "\n",
    "\n",
    "\n"
   ]
  },
  {
   "cell_type": "markdown",
   "metadata": {},
   "source": [
    "\n",
    "### 1번문제\n",
    "*  a = \"Hello Python\" 문자열을 Slicing과 연결 연산자(+)를 사용하여 \"Python Hello\"로 변경하시오.\n",
    " * [주의]a 변수 자체에 \"Python Hello\" 문자열이 저장되어야 함.\n"
   ]
  },
  {
   "cell_type": "code",
   "execution_count": 3,
   "metadata": {},
   "outputs": [
    {
     "name": "stdout",
     "output_type": "stream",
     "text": [
      "Hello Python\n",
      "Hello\n",
      "Python Hello\n"
     ]
    }
   ],
   "source": [
    "a = \"Hello Python\"\n",
    "print(a)\n",
    "a = a[:5]\n",
    "print(a)\n",
    "a = \"Python \" + a\n",
    "print(a)"
   ]
  },
  {
   "cell_type": "markdown",
   "metadata": {},
   "source": [
    "**설명 : 문자열을 slicing기능을 이용해서 인덱스4까지 짤라서 a에 다시 저장한후에 다시 python문자열을 +연산자를 이용해서 붙인다!**"
   ]
  },
  {
   "cell_type": "markdown",
   "metadata": {},
   "source": [
    "### 2번문제\n",
    "* b = \"Hello Python World\" 문자열을 Slicing과 연결 연산자 (+)를 사용하여 \"World Python Hello\"로 변경하시오.\n",
    " * [주의]b 변수 자체에 \"Python Hello\" 문자열이 저장되어야 함."
   ]
  },
  {
   "cell_type": "code",
   "execution_count": 16,
   "metadata": {},
   "outputs": [
    {
     "name": "stdout",
     "output_type": "stream",
     "text": [
      "Python Hello\n",
      "World Python Hello\n"
     ]
    }
   ],
   "source": [
    "b = \"Hello Python World\"\n",
    "b = b[6:13] + b[:5]\n",
    "print(b)\n",
    "b = \"World \" + b\n",
    "print(b)"
   ]
  },
  {
   "cell_type": "markdown",
   "metadata": {},
   "source": [
    "**설명 : b를 6:13부분짤라서 Python 짜르고 + :5부분짤라서 Hello열을 뽑아내서 b에 다시 +연산자로 합친다.**\n"
   ]
  },
  {
   "cell_type": "markdown",
   "metadata": {},
   "source": [
    "## 3번문제\n",
    "* c = \"Hello\"를 \"olleH\"로 변경하시오.\n",
    " * [주의]c 변수 자체에 \"olleH\"문자열이 저장되어야함."
   ]
  },
  {
   "cell_type": "code",
   "execution_count": 18,
   "metadata": {},
   "outputs": [
    {
     "name": "stdout",
     "output_type": "stream",
     "text": [
      "olleH\n"
     ]
    }
   ],
   "source": [
    "c = \"Hello\"\n",
    "c = c[::-1]\n",
    "print(c)"
   ]
  },
  {
   "cell_type": "markdown",
   "metadata": {},
   "source": [
    "**설명 : 변수 c에 문자열 Hello를 가르킨다음에, Slicing기능을 이용해서 step-1해서 거꾸로 돌려버린다.**"
   ]
  },
  {
   "cell_type": "markdown",
   "metadata": {},
   "source": [
    "## 4번문제\n",
    "* s = \"python\"에 대해 다음 문제를 풀어보시오."
   ]
  },
  {
   "cell_type": "markdown",
   "metadata": {},
   "source": [
    "   **1.s[0], s[0], s[0][0], s[0][0][0]은 각각 어떤 값이 나오는지 확인하고 그 이유를 나름대로 설명해 보시오.**"
   ]
  },
  {
   "cell_type": "code",
   "execution_count": 32,
   "metadata": {},
   "outputs": [
    {
     "name": "stdout",
     "output_type": "stream",
     "text": [
      "p\n",
      "p\n",
      "p\n"
     ]
    }
   ],
   "source": [
    "s = \"python\"\n",
    "print(s[0])\n",
    "print(s[0][0])\n",
    "print(s[0][0][0])"
   ]
  },
  {
   "cell_type": "markdown",
   "metadata": {},
   "source": [
    "**설명 : 일단 값은 제대로 나온다. p. 그래서 다른 값으로 [1], [1][1], [1][1][1]을 해봤는데 오류가 났다. [0][0]에서 뒤에 따라오는 [0]들은 취급을 안 하는 것 같다!( 없는 셈 치는것 같다 ) \n",
    "2차원 배열은 배열에 또다른 배열이 가르켜지고 있는것인데 문자열은 1차원배열이라 없는것 같기도 하다...**"
   ]
  },
  {
   "cell_type": "markdown",
   "metadata": {},
   "source": [
    "**2.s[-100], s[100]은 값이 나오는지 에러가 나오는지 확인하고 그 결과에 대한 이유를 나름대로 설명해 보시오.**"
   ]
  },
  {
   "cell_type": "code",
   "execution_count": 43,
   "metadata": {},
   "outputs": [
    {
     "ename": "IndexError",
     "evalue": "string index out of range",
     "output_type": "error",
     "traceback": [
      "\u001b[1;31m---------------------------------------------------------------------------\u001b[0m",
      "\u001b[1;31mIndexError\u001b[0m                                Traceback (most recent call last)",
      "\u001b[1;32m<ipython-input-43-dd485005971d>\u001b[0m in \u001b[0;36m<module>\u001b[1;34m()\u001b[0m\n\u001b[0;32m      1\u001b[0m \u001b[1;33m\u001b[0m\u001b[0m\n\u001b[1;32m----> 2\u001b[1;33m \u001b[0mprint\u001b[0m\u001b[1;33m(\u001b[0m\u001b[0ms\u001b[0m\u001b[1;33m[\u001b[0m\u001b[1;33m-\u001b[0m\u001b[1;36m7\u001b[0m\u001b[1;33m]\u001b[0m\u001b[1;33m)\u001b[0m\u001b[1;33m\u001b[0m\u001b[0m\n\u001b[0m",
      "\u001b[1;31mIndexError\u001b[0m: string index out of range"
     ]
    }
   ],
   "source": [
    "print(s[100])\n",
    "print(s[-100])"
   ]
  },
  {
   "cell_type": "markdown",
   "metadata": {},
   "source": [
    "**설명 : 당연히 문자열길이가 6인데 인덱스100이면 인덱스바깥으로 빠져나가서 오류가 발생한다. -100도 마찬가지로 파이썬은 특이하게 인덱스에 -값도 읽을수 있게 해놓아서 -1이면 맨뒤 -6이면 맨앞이다. 이것도 -7이렇게 가면 오류가 날것이다.**"
   ]
  },
  {
   "cell_type": "markdown",
   "metadata": {},
   "source": [
    "**3.s[-100, 100]은 값이 나오는지 에러가 나오는지 확인하고 그 결과에 대한 이유를 나름대로 설명해 보시오.**"
   ]
  },
  {
   "cell_type": "code",
   "execution_count": 44,
   "metadata": {},
   "outputs": [
    {
     "ename": "TypeError",
     "evalue": "string indices must be integers",
     "output_type": "error",
     "traceback": [
      "\u001b[1;31m---------------------------------------------------------------------------\u001b[0m",
      "\u001b[1;31mTypeError\u001b[0m                                 Traceback (most recent call last)",
      "\u001b[1;32m<ipython-input-44-94fcf2185f87>\u001b[0m in \u001b[0;36m<module>\u001b[1;34m()\u001b[0m\n\u001b[1;32m----> 1\u001b[1;33m \u001b[0mprint\u001b[0m\u001b[1;33m(\u001b[0m\u001b[0ms\u001b[0m\u001b[1;33m[\u001b[0m\u001b[1;33m-\u001b[0m\u001b[1;36m100\u001b[0m\u001b[1;33m,\u001b[0m \u001b[1;36m100\u001b[0m\u001b[1;33m]\u001b[0m\u001b[1;33m)\u001b[0m\u001b[1;33m\u001b[0m\u001b[0m\n\u001b[0m",
      "\u001b[1;31mTypeError\u001b[0m: string indices must be integers"
     ]
    }
   ],
   "source": [
    "print(s[-100, 100])"
   ]
  },
  {
   "cell_type": "markdown",
   "metadata": {},
   "source": [
    "**설명 : 배열의 인덱스에 정수가 아니라 리스트값이 들어가서 타입오류가 뜨는것 같다. 이런값이 들어가는것은 본적이 없다. 다음시간에 교수님께서 설명해주시면 좋겠다.**"
   ]
  },
  {
   "cell_type": "markdown",
   "metadata": {},
   "source": [
    "**4.s[1:-1]의 결과를 확인하고 그 결과에 대한 이유를 정확하게 설명하시오.**"
   ]
  },
  {
   "cell_type": "code",
   "execution_count": 45,
   "metadata": {},
   "outputs": [
    {
     "name": "stdout",
     "output_type": "stream",
     "text": [
      "ytho\n"
     ]
    }
   ],
   "source": [
    "print(s[1:-1])"
   ]
  },
  {
   "cell_type": "markdown",
   "metadata": {},
   "source": [
    "**설명 : 일단 시작은 인덱스1번의 y부터 시작해서 인덱스-1번인데 -1번이면 n이고 -1번미만까지 잘린다. 거기에 step은 1이므로 순차적으로 짤라서 ytho가 된다.**"
   ]
  },
  {
   "cell_type": "markdown",
   "metadata": {},
   "source": [
    "**5.s[3:-3]의 결과를 확인하고 그 결과에 대한 이유를 정확하게 설명하시오.**"
   ]
  },
  {
   "cell_type": "code",
   "execution_count": 48,
   "metadata": {},
   "outputs": [
    {
     "name": "stdout",
     "output_type": "stream",
     "text": [
      "\n"
     ]
    }
   ],
   "source": [
    "print(s[3:-3])"
   ]
  },
  {
   "cell_type": "markdown",
   "metadata": {},
   "source": [
    "**설명 : python 인덱스3번부터 시작한다. t부터 시작해서 -3인덱스 또한 t이므로 슬라이싱된구간이 없다.**"
   ]
  },
  {
   "cell_type": "markdown",
   "metadata": {},
   "source": [
    "## 5번 문제\n",
    "* for문을 활용하여 1부터 100사이의 홀수를 출력하시오."
   ]
  },
  {
   "cell_type": "code",
   "execution_count": 68,
   "metadata": {},
   "outputs": [
    {
     "name": "stdout",
     "output_type": "stream",
     "text": [
      "1\n",
      "3\n",
      "5\n",
      "7\n",
      "9\n",
      "11\n",
      "13\n",
      "15\n",
      "17\n",
      "19\n",
      "21\n",
      "23\n",
      "25\n",
      "27\n",
      "29\n",
      "31\n",
      "33\n",
      "35\n",
      "37\n",
      "39\n",
      "41\n",
      "43\n",
      "45\n",
      "47\n",
      "49\n",
      "51\n",
      "53\n",
      "55\n",
      "57\n",
      "59\n",
      "61\n",
      "63\n",
      "65\n",
      "67\n",
      "69\n",
      "71\n",
      "73\n",
      "75\n",
      "77\n",
      "79\n",
      "81\n",
      "83\n",
      "85\n",
      "87\n",
      "89\n",
      "91\n",
      "93\n",
      "95\n",
      "97\n",
      "99\n"
     ]
    }
   ],
   "source": [
    "for i in range(1, 100, 2):\n",
    "    print(i)"
   ]
  },
  {
   "cell_type": "markdown",
   "metadata": {},
   "source": [
    "**설명 : for문을 통해서 구간 1~100까지 step +2로 홀수를 출력하게 한다. **"
   ]
  },
  {
   "cell_type": "markdown",
   "metadata": {},
   "source": [
    "## 6번 문제\n",
    "* while문을 활용하여 1부터 100사이의 짝수의 합을 계산하여 출력하시오."
   ]
  },
  {
   "cell_type": "code",
   "execution_count": 6,
   "metadata": {},
   "outputs": [
    {
     "name": "stdout",
     "output_type": "stream",
     "text": [
      "2550\n"
     ]
    }
   ],
   "source": [
    "sum = 0\n",
    "i = 1\n",
    "while i < 51:\n",
    "    sum = sum + (2 * i)\n",
    "    i = i + 1\n",
    "print(sum)"
   ]
  },
  {
   "cell_type": "markdown",
   "metadata": {},
   "source": [
    "**설명 : while문을 통해서 1부터 100사이의 짝수의합을 구하야 하니까 i를 50까지 반복을 하면서 i를 두배해서 다 합치면 된다!**"
   ]
  },
  {
   "cell_type": "markdown",
   "metadata": {},
   "source": [
    "## 7번 문제\n",
    "* 사용자로 부터 임의의 정수를 입력받고, 해당 숫자를 역순으로 출력하는 프로그램을 작성하시오."
   ]
  },
  {
   "cell_type": "code",
   "execution_count": 11,
   "metadata": {},
   "outputs": [
    {
     "name": "stdout",
     "output_type": "stream",
     "text": [
      "정수를 입력하시오.: 1234\n",
      "4321\n"
     ]
    }
   ],
   "source": [
    "x = input(\"정수를 입력하시오.: \")\n",
    "x = x[::-1]\n",
    "print(x)"
   ]
  },
  {
   "cell_type": "markdown",
   "metadata": {},
   "source": [
    "**설명 : 사용자로부터 정수를 입력받는다. 이때 받은 입력값은 문자열이므로 slicing을 이용해서 역순으로 바꿔서 출력하면 된다.**"
   ]
  },
  {
   "cell_type": "markdown",
   "metadata": {},
   "source": [
    "## 8번 문제\n",
    "* 사용자로 부터 정수를 입력받아서 1부터 그 사이에 존재하는 소수 (Prime number)를 출력하는 파이썬 프로그램을 작성하시오."
   ]
  },
  {
   "cell_type": "code",
   "execution_count": 18,
   "metadata": {},
   "outputs": [
    {
     "name": "stdout",
     "output_type": "stream",
     "text": [
      "정수를 입력하시오. 그 정수까지의 소수를 출력해 드립니다.101\n",
      "2\n",
      "3\n",
      "5\n",
      "7\n",
      "11\n",
      "13\n",
      "17\n",
      "19\n",
      "23\n",
      "29\n",
      "31\n",
      "37\n",
      "41\n",
      "43\n",
      "47\n",
      "53\n",
      "59\n",
      "61\n",
      "67\n",
      "71\n",
      "73\n",
      "79\n",
      "83\n",
      "89\n",
      "97\n",
      "101\n"
     ]
    }
   ],
   "source": [
    "p = int(input(\"정수를 입력하시오. 그 정수까지의 소수를 출력해 드립니다.\"))\n",
    "for i in range(2, p + 1):\n",
    "    pas = 0\n",
    "    for j in range(2, i):\n",
    "        if i % j == 0:\n",
    "            pas = 1\n",
    "            break\n",
    "    if pas == 0:\n",
    "        print(i)"
   ]
  },
  {
   "cell_type": "markdown",
   "metadata": {},
   "source": [
    "**설명 : 사용자로부터 입력값을 정수로 받고, for문을 통해 구간을 정해서 반복을 한다.( range를 이용하면 range(1,10)했을때 9까지 도므로 +1 해 준거입니다. ) 이때 소수를 찾기위해 for문을 하나더 써야한다. 사용하여 i를 i-1번 반복해서 소수를 찾는다. (소수가 자기자신과 1를 제외하고는 나머지가 0이 나오는게 없으므로 자기자신을 제외하고, 1를 제외하기위해서 range(2,i)로 구간을 잡았다. ) pas라는 변수를 두어 소수를 찾은것만 프린트하게 하였다.**"
   ]
  },
  {
   "cell_type": "markdown",
   "metadata": {},
   "source": [
    "## 9번 문제 [ACM-ICPC 문제 2439번]\n",
    "* 별찍기-2 : 첫째 줄에는 별 1개, 둘째 줄에는 별 2개, N번째 줄에는 별 N개를 찍는 문제\n"
   ]
  },
  {
   "cell_type": "code",
   "execution_count": 46,
   "metadata": {},
   "outputs": [
    {
     "name": "stdout",
     "output_type": "stream",
     "text": [
      "5\n",
      "    *\n",
      "   **\n",
      "  ***\n",
      " ****\n",
      "*****"
     ]
    }
   ],
   "source": [
    "N = int(input())\n",
    "\n",
    "for i in range(0, N):\n",
    "    for j in range(1, N-i):\n",
    "        print(\" \", end=\"\")\n",
    "    for k in range(0, i+1):\n",
    "        print(\"*\", end=\"\")\n",
    "    if i != N-1:\n",
    "        print()"
   ]
  },
  {
   "cell_type": "markdown",
   "metadata": {},
   "source": [
    "** 설명 : for문 안에 for문을 두개 두어 하나는 \" \"를 출력하게 하고, 하나는 \"*\"을 출력하게 한다. 이때 사이트에서 원하는 출력값들을 보여주려면 마지막줄을 건너뛰면 안된다. 그래서 if i != N-1:  print()을 한것이다.**"
   ]
  },
  {
   "cell_type": "markdown",
   "metadata": {},
   "source": [
    "## 채점결과\n",
    "![image](HoneworkBackjoon1.png)\n",
    "![](https://photos-4.dropbox.com/t/2/AABZeXAEIMIXFaflVBPuoF63s_fX9FjC49b1Lxtoz_j-OQ/12/703790387/png/32x32/1/_/1/2/HoneworkBackjoon1.PNG/EILkhucFGBYgBygH/fGGcpDtViyrJByIoEuf-gC8kuhqgK2-tTP2PdCIxNRk?size=1280x960&size_mode=3)\n",
    "https://www.dropbox.com/s/wy81dnr7upezwaq/HoneworkBackjoon1.PNG"
   ]
  },
  {
   "cell_type": "markdown",
   "metadata": {},
   "source": [
    "## 10번 문제 [ACM-ICPC 문제 1924번]\n",
    "* 오늘은 2007년 1월 1일 월요일이다. 그렇다면 2007년 x월 y일은 무슨 요일일까? 이를 알아내는 프로그램을 작성하시오."
   ]
  },
  {
   "cell_type": "code",
   "execution_count": 51,
   "metadata": {},
   "outputs": [
    {
     "name": "stdout",
     "output_type": "stream",
     "text": [
      "3 5\n",
      "MON\n"
     ]
    }
   ],
   "source": [
    "days = ('SUN', 'MON', 'TUE', 'WED', 'THU', 'FRI', 'SAT')\n",
    "x, y= input().split()\n",
    "\n",
    "daysNum = [31, 28, 31, 30, 31, 30, 31, 31, 30, 31, 30, 31]\n",
    "sum = 0\n",
    "for i in range(0, int(x) - 1):\n",
    "    sum = sum + daysNum[i]\n",
    "count = (sum + int(y)) % 7\n",
    "print(days[count])\n"
   ]
  },
  {
   "cell_type": "markdown",
   "metadata": {},
   "source": [
    "** 설명 : 요일은 변하지 않으므로 튜플로 선언하여 일월화수목금토를 데이터로 넣어놓는다 (문자열). 문제에서 띄여쓰기로 구분하여 정수 2개를 입력받는다. input().split()함수를 이용하여! daysNum이란 리스트를 만들어서 월들의 일수 데이터를 넣는다. 그리고 for문을 이용하여 x월전까지의 일수데이터들을 모두 더한다 그리고나서 y일을 더하고 % 7 을 하여 튜플의 인덱스에 넣어서 출력하게 된다. 이때 튜플값에는 처음 1월1일이 월요일이라고 햇으므로 튜플[1]의 값에는 월요일이 있어야한다. **"
   ]
  },
  {
   "cell_type": "markdown",
   "metadata": {},
   "source": [
    "## 채점결과\n",
    "![](HomeworkBackjoon2.png)\n",
    "![](https://photos-2.dropbox.com/t/2/AAAg1YnFNQOGgpJzGu9hW_CBTSMGY4Deh25H5lqT5kBSXA/12/703790387/png/32x32/1/_/1/2/HomeworkBackjoon2.PNG/EILkhucFGBYgBygH/f5VjvPH420k-ujKm7xo4lUgBPXaTBVLOy6dASPCZf4w?size=1280x960&size_mode=3)\n",
    "https://www.dropbox.com/s/q9kg7dt5w4in7yy/HomeworkBackjoon2.PNG"
   ]
  },
  {
   "cell_type": "markdown",
   "metadata": {},
   "source": [
    "## 11번 문제 [ACM-ICPC 문제 11720번]\n",
    "* N개의 숫자가 공백 없이 쓰여있다. 이 숫자를 모두 합해서 출력하는 프로그램을 작성하시오."
   ]
  },
  {
   "cell_type": "code",
   "execution_count": 52,
   "metadata": {
    "scrolled": true
   },
   "outputs": [
    {
     "name": "stdout",
     "output_type": "stream",
     "text": [
      "5\n",
      "24689\n",
      "29\n"
     ]
    }
   ],
   "source": [
    "numCount = int(input())\n",
    "realNum = input()\n",
    "realNum = list(realNum)\n",
    "sum = 0\n",
    "for i in realNum:\n",
    "    sum = sum + int(i)\n",
    "print(sum)"
   ]
  },
  {
   "cell_type": "markdown",
   "metadata": {},
   "source": [
    "** 설명 : 사용자로부터 몇자리수를 셀건지 받는다. 이게 없어도 파이썬은 가능하다 왜냐면 리스트를 이용해 for문을 사용하면 몇자리수인지 파악하는걸 이미 리스트형식으로 한자리씩 배열에 갖게 되고, for문에 쓰면 알아서 리스트끝까지 반복하기 때문이다. 단 문자열을 받았기 때문에 sum에 더할때 int()를 씌워줘야 한다. **"
   ]
  },
  {
   "cell_type": "markdown",
   "metadata": {},
   "source": [
    "## 채점결과\n",
    "![](HomeworkBackjoon3.png)\n",
    "![](https://photos-1.dropbox.com/t/2/AAB7IZYSeQ2t7UPSBd1BuhA_oV10Ub7SVJgzuvHYi-1_7g/12/703790387/png/32x32/1/_/1/2/HomeworkBackjoon3.PNG/EILkhucFGBYgBygH/dVHWyZ4DQ6nmMfO0Yxzvy63uLkfJpEVbFZAzgy6LHTY?size=1280x960&size_mode=3)\n",
    "![](https://www.dropbox.com/s/4bdvt850ep5calv/HomeworkBackjoon3.PNG)\n",
    "https://www.dropbox.com/s/4bdvt850ep5calv/HomeworkBackjoon3.PNG"
   ]
  },
  {
   "cell_type": "code",
   "execution_count": null,
   "metadata": {
    "collapsed": true
   },
   "outputs": [],
   "source": []
  }
 ],
 "metadata": {
  "kernelspec": {
   "display_name": "Python 3",
   "language": "python",
   "name": "python3"
  },
  "language_info": {
   "codemirror_mode": {
    "name": "ipython",
    "version": 3
   },
   "file_extension": ".py",
   "mimetype": "text/x-python",
   "name": "python",
   "nbconvert_exporter": "python",
   "pygments_lexer": "ipython3",
   "version": "3.6.1"
  },
  "widgets": {
   "application/vnd.jupyter.widget-state+json": {
    "state": {},
    "version_major": 1,
    "version_minor": 0
   }
  }
 },
 "nbformat": 4,
 "nbformat_minor": 2
}
